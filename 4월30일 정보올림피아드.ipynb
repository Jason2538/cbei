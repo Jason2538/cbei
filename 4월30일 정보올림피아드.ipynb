{
 "cells": [
  {
   "cell_type": "code",
   "execution_count": null,
   "metadata": {},
   "outputs": [],
   "source": [
    "# n = int(input())\n",
    "# for i in range(1,10):\n",
    "#     print(f\"{n} * {i} = {n*i})"
   ]
  },
  {
   "cell_type": "code",
   "execution_count": 1,
   "metadata": {},
   "outputs": [
    {
     "name": "stdout",
     "output_type": "stream",
     "text": [
      "***************************************************************************************************************************************************************************************************************************************************************************************************************************************************************************************************************************************************************************************************************************************************************************************************************************************************************************************************************************************************************************************************************************************************************************************************************************************************************************************************************************************"
     ]
    }
   ],
   "source": [
    "\n",
    "for i in range(999):\n",
    "    print(\"*\", end='')\n"
   ]
  },
  {
   "cell_type": "code",
   "execution_count": null,
   "metadata": {},
   "outputs": [],
   "source": [
    "n = int(input())\n",
    "for i in range (n):\n",
    "    print (\"*\", end='')"
   ]
  },
  {
   "cell_type": "code",
   "execution_count": null,
   "metadata": {},
   "outputs": [],
   "source": [
    "n = int(input())\n",
    "while n :\n",
    "    print (\"*\")\n",
    "    break"
   ]
  },
  {
   "cell_type": "code",
   "execution_count": null,
   "metadata": {},
   "outputs": [],
   "source": [
    "수 = int(input())\n",
    "if 수 >= 90:\n",
    "    print(\"A\")\n",
    "elif 수 >= 80 :\n",
    "    print(\"B\")\n",
    "elif 수 >= 70 :\n",
    "    print(\"C\")\n",
    "elif 수 >= 60 :\n",
    "    print(\"D\")\n",
    "else : \n",
    "    print(\"F\") "
   ]
  },
  {
   "cell_type": "code",
   "execution_count": null,
   "metadata": {},
   "outputs": [],
   "source": [
    "t = int(input())\n",
    "\n",
    "for i in range(1, t+1):\n",
    "    print(\" \" * (t-i), \"*\"*i ,sep=\"\")"
   ]
  },
  {
   "cell_type": "code",
   "execution_count": null,
   "metadata": {},
   "outputs": [],
   "source": [
    "from random import randint\n",
    "\n",
    "answer = randint(1, 2, 3)\n",
    "print(\"숫자 게임에 왔다\")\n",
    "g = input(\"숫자를 맞춰 봐라:\")\n",
    "guess = str(g)\n",
    "if guess == answer:\n",
    "    print(\"니가 이김\")\n",
    "elif guess > answer:\n",
    "    print(\"너무 큼 ㅋ\")\n",
    "else:\n",
    "    print(\"너무 작음 ㅋ\")\n",
    "\n"
   ]
  },
  {
   "cell_type": "code",
   "execution_count": null,
   "metadata": {},
   "outputs": [],
   "source": [
    "import random\n",
    "player = input(\"(가위,바위,보)중에서 하나를 선택하세요:\")\n",
    "\n",
    "number = random.randint(0,2)\n",
    "if (number==0):\n",
    "    computer=\"가위\"\n",
    "elif (number==1):\n",
    "    computer=\"바위\"\n",
    "else:\n",
    "    computer=\"보\"\n",
    "print(\"사용자:\", player, \"컴퓨터:\",computer)"
   ]
  },
  {
   "cell_type": "code",
   "execution_count": null,
   "metadata": {},
   "outputs": [],
   "source": [
    "from random import randint\n",
    "나 = input(\"가위, 바위, 보?\")\n",
    "수 = randint(1, 3)\n",
    "\n",
    "if 수 == 1:\n",
    "    컴 = \"가위\"\n",
    "elif 수 == 2:\n",
    "    컴 = \"바위\"\n",
    "else :\n",
    "    컴 = \"보\"\n",
    "print(\"나:\", 나, \"컴:\", 컴)\n",
    "\n",
    "if 나 == 컴 :   \n",
    "    print(\"비김\")\n",
    "elif 나 == \"가위\": \n",
    "    if 컴 == \"바위\":\n",
    "        print(\"컴 이김\")\n",
    "    else :    \n",
    "        print(\"나 이김\")\n",
    "elif 나 == \"바위\": \n",
    "    if 컴 == \"보\":\n",
    "        print(\"컴 이김\")\n",
    "    else :    \n",
    "        print(\"나 이김\")\n",
    "elif 나 == \"보\": \n",
    "    if 컴 == \"가위\":\n",
    "        print(\"컴 이김\")\n",
    "    else :    \n",
    "        print(\"나 이김\")\n",
    "\n"
   ]
  },
  {
   "cell_type": "code",
   "execution_count": null,
   "metadata": {},
   "outputs": [],
   "source": []
  },
  {
   "cell_type": "code",
   "execution_count": null,
   "metadata": {},
   "outputs": [],
   "source": [
    "a = input()\n",
    "\n",
    "for i in range (1000000000000000000000000):\n",
    "    print(i + 1, \"번 환영합니다.\")\n"
   ]
  },
  {
   "cell_type": "code",
   "execution_count": 2,
   "metadata": {},
   "outputs": [
    {
     "name": "stdout",
     "output_type": "stream",
     "text": [
      "안녕!진핑아!\n",
      "안녕!정은아!\n",
      "안녕!석열아!\n",
      "안녕!푸틴아!\n"
     ]
    }
   ],
   "source": [
    "for name in [\"진핑\", \"정은\", \"석열\", \"푸틴\"]:\n",
    "    print(\"안녕!\"+name+\"아!\")"
   ]
  },
  {
   "cell_type": "code",
   "execution_count": null,
   "metadata": {},
   "outputs": [],
   "source": [
    "t = int(input())\n",
    "\n",
    "for _ in range(t):\n",
    "    a,b = list(map(int, input().split()))\n",
    "    print(a+b)\n"
   ]
  },
  {
   "cell_type": "code",
   "execution_count": null,
   "metadata": {},
   "outputs": [],
   "source": [
    "a = int(input())\n",
    "합 = 1\n",
    "for i in range(1, a+1):\n",
    "    합 = 합 * i\n",
    "print(합)\n"
   ]
  },
  {
   "cell_type": "code",
   "execution_count": null,
   "metadata": {},
   "outputs": [],
   "source": [
    "sum =0\n",
    "\n",
    "limit = int(input(\"어디까지 계산할까요:\"))\n",
    "for i in range (1, limit + 1):\n",
    "    sum += i\n",
    "print(\"1부터\",limit, \"까지의 정수의 합 =\", sum)\n"
   ]
  },
  {
   "cell_type": "markdown",
   "metadata": {},
   "source": [
    "import turtle\n",
    "polygon = turtle.Turtle()\n",
    "\n",
    "num_sides = 6\n",
    "side_length = 70\n",
    "angle = 360.0/num_sides\n",
    "for i in range (num_sides):\n",
    "     polygon.forward(side_length)\n",
    "     polygon.right(angle)\n"
   ]
  },
  {
   "cell_type": "code",
   "execution_count": null,
   "metadata": {},
   "outputs": [],
   "source": [
    "import turtle as t \n",
    "각 = int(input())\n",
    "각도 = 360 / 각\n",
    "for x in range(180):\n",
    "    for i in range (각):\n",
    "        t.right(각도)\n",
    "        t.forward(50)\n",
    "t.mainloop()"
   ]
  },
  {
   "cell_type": "code",
   "execution_count": null,
   "metadata": {},
   "outputs": [],
   "source": [
    "import turtle as t\n",
    "t.bgcolor(\"black\")\n",
    "t.color(\"white\")\n",
    "t.speed(0)\n",
    "\n",
    "count=100\n",
    "\n",
    "for num in range(count):\n",
    "\n",
    "    \n",
    "    t.circle(200)\n",
    "    t.left(360/count)"
   ]
  },
  {
   "cell_type": "code",
   "execution_count": null,
   "metadata": {},
   "outputs": [],
   "source": [
    "import turtle as t\n",
    "t.bgcolor(\"black\")\n",
    "t.color(\"black\")\n",
    "t.speed(10)\n",
    "for i in range(1000000000000000000000000000000000000):\n",
    "    t.circle(20)\n",
    "    t.right(1)\n",
    "t.mainloop()"
   ]
  },
  {
   "cell_type": "code",
   "execution_count": 5,
   "metadata": {},
   "outputs": [],
   "source": [
    "a = int(input())\n",
    "합 = 1\n",
    "i = 1\n",
    "while i< a+1:\n",
    "    합 = 합 * i\n",
    "    i = i*1\n",
    "    print(합)"
   ]
  },
  {
   "cell_type": "code",
   "execution_count": 22,
   "metadata": {},
   "outputs": [
    {
     "name": "stdout",
     "output_type": "stream",
     "text": [
      "1부터 100사이의 숫자를 맞추시오\n",
      "높음!\n",
      "높음!\n",
      "높음!\n",
      "높음!\n",
      "높음!\n",
      "높음!\n",
      "높음!\n",
      "높음!\n",
      "높음!\n",
      "높음!\n"
     ]
    },
    {
     "ename": "ValueError",
     "evalue": "invalid literal for int() with base 10: ''",
     "output_type": "error",
     "traceback": [
      "\u001b[1;31m---------------------------------------------------------------------------\u001b[0m",
      "\u001b[1;31mValueError\u001b[0m                                Traceback (most recent call last)",
      "Cell \u001b[1;32mIn[22], line 9\u001b[0m\n\u001b[0;32m      6\u001b[0m \u001b[39m# print(number)\u001b[39;00m\n\u001b[0;32m      8\u001b[0m \u001b[39mwhile\u001b[39;00m tries \u001b[39m<\u001b[39m\u001b[39m10000000\u001b[39m:\n\u001b[1;32m----> 9\u001b[0m     guess \u001b[39m=\u001b[39m \u001b[39mint\u001b[39;49m(\u001b[39minput\u001b[39;49m(\u001b[39m\"\u001b[39;49m\u001b[39m숫자를 입력하시오:\u001b[39;49m\u001b[39m\"\u001b[39;49m))\n\u001b[0;32m     10\u001b[0m     tries \u001b[39m=\u001b[39m tries \u001b[39m+\u001b[39m \u001b[39m1\u001b[39m\n\u001b[0;32m     11\u001b[0m     \u001b[39mif\u001b[39;00m guess \u001b[39m<\u001b[39m number:\n",
      "\u001b[1;31mValueError\u001b[0m: invalid literal for int() with base 10: ''"
     ]
    }
   ],
   "source": [
    "import random\n",
    "tries = 0\n",
    "number = random.randint(1,100)\n",
    "\n",
    "print(\"1부터 100사이의 숫자를 맞추시오\")\n",
    "# print(number)\n",
    "\n",
    "while tries <10000000:\n",
    "    guess = int(input(\"숫자를 입력하시오:\"))\n",
    "    tries = tries + 1\n",
    "    if guess < number:\n",
    "        print(\"낮음!\")\n",
    "    elif guess > number:\n",
    "        print(\"높음!\")\n",
    "    else:\n",
    "        break\n",
    "\n",
    "if guess == number:\n",
    "    print(\"축하합니다.시도횟수=\",tries)\n",
    "else:\n",
    "    print(\"정답은\",number)"
   ]
  },
  {
   "cell_type": "code",
   "execution_count": 25,
   "metadata": {},
   "outputs": [
    {
     "name": "stdout",
     "output_type": "stream",
     "text": [
      "\n",
      "s\n",
      "sd\n",
      "sd\n",
      "sds\n",
      "sdsd\n",
      "sdsd\n",
      "sdsds\n",
      "sdsdsd\n"
     ]
    }
   ],
   "source": [
    "s = input()\n",
    "vowles = \"aeiouAEIOU\"\n",
    "result = \"\"\n",
    "for letter in s:\n",
    "    if letter not in vowles:\n",
    "        result += letter\n",
    "    print(result)"
   ]
  },
  {
   "cell_type": "code",
   "execution_count": 27,
   "metadata": {},
   "outputs": [
    {
     "name": "stdout",
     "output_type": "stream",
     "text": [
      "sdsdsd\n"
     ]
    }
   ],
   "source": [
    "s = input(\"문자?\")\n",
    "제거 = \"aeiouAEIOU\"         ##제거 하고 싶은 것\n",
    "결과 = \"\"\n",
    "for i in s:\n",
    "    if i not in 제거: ##제거 대상이 아니라면\n",
    "        결과 = 결과 + i\n",
    "print(결과)"
   ]
  },
  {
   "cell_type": "code",
   "execution_count": 57,
   "metadata": {},
   "outputs": [
    {
     "ename": "ModuleNotFoundError",
     "evalue": "No module named '함수'",
     "output_type": "error",
     "traceback": [
      "\u001b[1;31m---------------------------------------------------------------------------\u001b[0m",
      "\u001b[1;31mModuleNotFoundError\u001b[0m                       Traceback (most recent call last)",
      "Cell \u001b[1;32mIn[57], line 1\u001b[0m\n\u001b[1;32m----> 1\u001b[0m \u001b[39mimport\u001b[39;00m \u001b[39m함수\u001b[39;00m\n\u001b[0;32m      2\u001b[0m 함수\u001b[39m.\u001b[39m인사()\n",
      "\u001b[1;31mModuleNotFoundError\u001b[0m: No module named '함수'"
     ]
    }
   ],
   "source": [
    "import 함수\n",
    "함수.인사()"
   ]
  },
  {
   "cell_type": "code",
   "execution_count": 2,
   "metadata": {},
   "outputs": [
    {
     "name": "stdout",
     "output_type": "stream",
     "text": [
      "*\n"
     ]
    }
   ],
   "source": [
    "a = int(input())\n",
    "\n",
    "while a:\n",
    "    print(\"*\")\n",
    "    break"
   ]
  }
 ],
 "metadata": {
  "kernelspec": {
   "display_name": "Python 3",
   "language": "python",
   "name": "python3"
  },
  "language_info": {
   "codemirror_mode": {
    "name": "ipython",
    "version": 3
   },
   "file_extension": ".py",
   "mimetype": "text/x-python",
   "name": "python",
   "nbconvert_exporter": "python",
   "pygments_lexer": "ipython3",
   "version": "3.10.4"
  },
  "orig_nbformat": 4
 },
 "nbformat": 4,
 "nbformat_minor": 2
}

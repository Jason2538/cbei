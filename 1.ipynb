{
 "cells": [
  {
   "cell_type": "code",
   "execution_count": null,
   "metadata": {},
   "outputs": [],
   "source": [
    "a, b = list(map(int, input().split()))\n",
    "\n",
    "if a >b:\n",
    "    print(\">\")\n",
    "elif a <b:\n",
    "    print(\"<\")\n",
    "else:\n",
    "    print(\"==\")\n"
   ]
  }
 ],
 "metadata": {
  "language_info": {
   "name": "python"
  },
  "orig_nbformat": 4
 },
 "nbformat": 4,
 "nbformat_minor": 2
}

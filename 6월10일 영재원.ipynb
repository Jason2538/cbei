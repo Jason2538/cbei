{
 "cells": [
  {
   "cell_type": "code",
   "execution_count": 1,
   "metadata": {},
   "outputs": [
    {
     "ename": "KeyError",
     "evalue": "'mealServiceDietInfo'",
     "output_type": "error",
     "traceback": [
      "\u001b[0;31m---------------------------------------------------------------------------\u001b[0m",
      "\u001b[0;31mKeyError\u001b[0m                                  Traceback (most recent call last)",
      "Cell \u001b[0;32mIn[1], line 42\u001b[0m\n\u001b[1;32m     38\u001b[0m     \u001b[39mreturn\u001b[39;00m newdata\n\u001b[1;32m     41\u001b[0m r, code \u001b[39m=\u001b[39m get_sc_code(\u001b[39m\"\u001b[39m\u001b[39m청주교육대학교부설초등학교\u001b[39m\u001b[39m\"\u001b[39m)\n\u001b[0;32m---> 42\u001b[0m data \u001b[39m=\u001b[39m get_meal(code, \u001b[39m20230609\u001b[39;49m)\n\u001b[1;32m     43\u001b[0m data\n",
      "Cell \u001b[0;32mIn[1], line 32\u001b[0m, in \u001b[0;36mget_meal\u001b[0;34m(code, d)\u001b[0m\n\u001b[1;32m     30\u001b[0m res \u001b[39m=\u001b[39m requests\u001b[39m.\u001b[39mget(\u001b[39m\"\u001b[39m\u001b[39mhttps://open.neis.go.kr/hub/mealServiceDietInfo\u001b[39m\u001b[39m\"\u001b[39m, params\u001b[39m=\u001b[39mparams)\n\u001b[1;32m     31\u001b[0m data \u001b[39m=\u001b[39m res\u001b[39m.\u001b[39mjson()\n\u001b[0;32m---> 32\u001b[0m data \u001b[39m=\u001b[39m data[\u001b[39m\"\u001b[39;49m\u001b[39mmealServiceDietInfo\u001b[39;49m\u001b[39m\"\u001b[39;49m][\u001b[39m1\u001b[39m][\u001b[39m\"\u001b[39m\u001b[39mrow\u001b[39m\u001b[39m\"\u001b[39m][\u001b[39m0\u001b[39m][\u001b[39m\"\u001b[39m\u001b[39mDDISH_NM\u001b[39m\u001b[39m\"\u001b[39m]\n\u001b[1;32m     33\u001b[0m \u001b[39m# data = data.replace(\"<br/>\", \"\\n\")\u001b[39;00m\n\u001b[1;32m     34\u001b[0m data \u001b[39m=\u001b[39m data\u001b[39m.\u001b[39msplit(\u001b[39m\"\u001b[39m\u001b[39m<br/>\u001b[39m\u001b[39m\"\u001b[39m)\n",
      "\u001b[0;31mKeyError\u001b[0m: 'mealServiceDietInfo'"
     ]
    }
   ],
   "source": [
    "import requests\n",
    "import pprint\n",
    "\n",
    "def get_sc_code(name):\n",
    "    param = {\n",
    "        \"SCHUL_NM\":name,\n",
    "        \"ATPT_OFCDC_SC_CODE\":\"M10\",\n",
    "        \"Type\":\"json\"\n",
    "\n",
    "    }\n",
    "    fes =requests.get (\"https://open.neis.go.kr/hub/schoolInfo\", params=param) \n",
    "    data =fes.json()\n",
    "    r = True\n",
    "    try:\n",
    "        data = data[\"schoolInfo\"][1]['row'][0][\"SD_SCHUL_CODE\"]\n",
    "    except:\n",
    "        data = \"못찾음\"\n",
    "        r = False\n",
    "    \n",
    "    return r, data\n",
    "\n",
    "def get_meal(code, d):\n",
    "    params = {\n",
    "        \"ATPT_OFCDC_SC_CODE\":\"M10\",\n",
    "        \"Type\":\"json\",\n",
    "        \"SD_SCHUL_CODE\":code,\n",
    "        \"MLSV_YMD\":d\n",
    "        \n",
    "    }\n",
    "    res = requests.get(\"https://open.neis.go.kr/hub/mealServiceDietInfo\", params=params)\n",
    "    data = res.json()\n",
    "    data = data[\"mealServiceDietInfo\"][1][\"row\"][0][\"DDISH_NM\"]\n",
    "    # data = data.replace(\"<br/>\", \"\\n\")\n",
    "    data = data.split(\"<br/>\")\n",
    "    newdata= []\n",
    "    for m in data:\n",
    "        newdata.append(m.split(\"  \")[0])\n",
    "    return newdata\n",
    "    \n",
    "    \n",
    "r, code = get_sc_code(\"청주교육대학교부설초등학교\")\n",
    "data = get_meal(code, 20230609)\n",
    "data"
   ]
  },
  {
   "cell_type": "code",
   "execution_count": null,
   "metadata": {},
   "outputs": [],
   "source": [
    "import PySimpleGUI as sg\n",
    "layout = [\n",
    "    [sg.Text(\"학교이름\"),  sg.Input(\"\", key= \"scname\")],\n",
    "    [sg.Text(\"날짜\"),  sg.Input(\"\", key= \"date\")],\n",
    "    [sg.Multiline(\"여기는 텍스트\", key=\"txt\", expand_x=True, size=(0,7))],\n",
    "    [sg.Button(\"찾기\", key=\"-확인1-\", expand_x=True)],\n",
    "]\n",
    "window = sg.Window(\"jjj\",layout)\n",
    "while True:\n",
    "    event, values = window.read()\n",
    "    print(event, values)\n",
    "    if event== sg.WIN_CLOSED:\n",
    "        break\n",
    "    if event == \"-확인1-\":\n",
    "        scname = values[\"scname\"]\n",
    "        d = values [\"date\"]\n",
    "        r , data = get_sc_code(scname)\n",
    "        if r == True:\n",
    "            meals = get_meal(data, d)\n",
    "            window[\"txt\"].update(\"\\n\".join(meals))\n",
    "\n",
    "    \n",
    "\n",
    "\n",
    "window.close()\n"
   ]
  },
  {
   "cell_type": "code",
   "execution_count": null,
   "metadata": {},
   "outputs": [],
   "source": [
    "window.close()"
   ]
  }
 ],
 "metadata": {
  "kernelspec": {
   "display_name": "Python 3",
   "language": "python",
   "name": "python3"
  },
  "language_info": {
   "codemirror_mode": {
    "name": "ipython",
    "version": 3
   },
   "file_extension": ".py",
   "mimetype": "text/x-python",
   "name": "python",
   "nbconvert_exporter": "python",
   "pygments_lexer": "ipython3",
   "version": "3.10.4"
  },
  "orig_nbformat": 4
 },
 "nbformat": 4,
 "nbformat_minor": 2
}

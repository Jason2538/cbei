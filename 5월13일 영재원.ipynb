{
 "cells": [
  {
   "cell_type": "code",
   "execution_count": 30,
   "metadata": {},
   "outputs": [
    {
     "data": {
      "text/plain": [
       "[[0, 0, 0, 0, 0],\n",
       " [0, 0, 0, 0, 0],\n",
       " [0, 0, 0, 0, 0],\n",
       " [0, 0, 0, 0, 0],\n",
       " [0, 0, 0, 0, 0],\n",
       " [0, 0, 0, 0, 0],\n",
       " [0, 0, 0, 0, 0],\n",
       " [0, 0, 0, 0, 0],\n",
       " [0, 0, 0, 0, 0],\n",
       " [0, 0, 0, 0, 0]]"
      ]
     },
     "execution_count": 30,
     "metadata": {},
     "output_type": "execute_result"
    }
   ],
   "source": [
    "l = [ [0 for _ in range(5)]    for _ in range(10)]\n",
    "l"
   ]
  },
  {
   "cell_type": "code",
   "execution_count": 3,
   "metadata": {},
   "outputs": [
    {
     "data": {
      "text/plain": [
       "[]"
      ]
     },
     "execution_count": 3,
     "metadata": {},
     "output_type": "execute_result"
    }
   ],
   "source": [
    "ll = []\n",
    "for j in range(10):\n",
    "    l= []\n",
    "    for i in range (5):\n",
    "        l.append(0)\n",
    "ll"
   ]
  },
  {
   "cell_type": "code",
   "execution_count": 5,
   "metadata": {},
   "outputs": [
    {
     "data": {
      "text/plain": [
       "[[0, 0, 0, 0, 0],\n",
       " [0, 10, 0, 0, 0],\n",
       " [0, 0, 0, 0, 0],\n",
       " [0, 0, 0, 0, 0],\n",
       " [0, 0, 0, 0, 0],\n",
       " [0, 0, 0, 0, 0],\n",
       " [0, 0, 0, 0, 0],\n",
       " [0, 0, 0, 0, 0],\n",
       " [0, 0, 0, 0, 0],\n",
       " [0, 0, 0, 0, 0]]"
      ]
     },
     "execution_count": 5,
     "metadata": {},
     "output_type": "execute_result"
    }
   ],
   "source": [
    "ll = []\n",
    "for j in range(10):\n",
    "    ll.append([0]*5)\n",
    "ll [2] [3] = 10\n",
    "ll"
   ]
  },
  {
   "cell_type": "code",
   "execution_count": 13,
   "metadata": {},
   "outputs": [
    {
     "name": "stdout",
     "output_type": "stream",
     "text": [
      "4 4 4 \n",
      "6 6 6 \n",
      "5 6 100 \n"
     ]
    }
   ],
   "source": [
    "# https://www.acmicpc.net/problem/2738\n",
    "\n",
    "ll = []\n",
    "rl = []\n",
    "\n",
    "n, m  = list(map(int, input().split()))\n",
    "\n",
    "for _ in range(n):\n",
    "    t  = list(map(int, input().split()))\n",
    "    ll.append(t)\n",
    "\n",
    "for _ in range(n):\n",
    "    t  = list(map(int, input().split()))\n",
    "    rl.append(t)\n",
    "\n",
    "for y in range(n):\n",
    "    for x in range(m):\n",
    "        print(ll[y][x] + rl[y][x], end= \" \")\n",
    "    print()"
   ]
  },
  {
   "cell_type": "code",
   "execution_count": 14,
   "metadata": {},
   "outputs": [
    {
     "name": "stdout",
     "output_type": "stream",
     "text": [
      "4 4 4 \n",
      "6 6 6 \n",
      "5 6 100 \n"
     ]
    }
   ],
   "source": [
    "# https://www.acmicpc.net/problem/2738\n",
    "\n",
    "ll = []\n",
    "rl = []\n",
    "\n",
    "n, m  = list(map(int, input().split()))\n",
    "\n",
    "for _ in range(n):\n",
    "    t  = list(map(int, input().split()))\n",
    "    ll.append(t)\n",
    "\n",
    "for l in (ll):\n",
    "    r = list(map(int, input().split()))\n",
    "    for i in zip(l,r):\n",
    "        print(sum(i), end=\" \")\n",
    "    print ()"
   ]
  },
  {
   "cell_type": "code",
   "execution_count": 19,
   "metadata": {},
   "outputs": [
    {
     "ename": "ValueError",
     "evalue": "invalid literal for int() with base 10: ''",
     "output_type": "error",
     "traceback": [
      "\u001b[0;31m---------------------------------------------------------------------------\u001b[0m",
      "\u001b[0;31mValueError\u001b[0m                                Traceback (most recent call last)",
      "Cell \u001b[0;32mIn[19], line 5\u001b[0m\n\u001b[1;32m      2\u001b[0m max_idx \u001b[39m=\u001b[39m \u001b[39m0\u001b[39m\n\u001b[1;32m      4\u001b[0m \u001b[39mfor\u001b[39;00m i \u001b[39min\u001b[39;00m \u001b[39mrange\u001b[39m(\u001b[39m1\u001b[39m, \u001b[39m82\u001b[39m):\n\u001b[0;32m----> 5\u001b[0m     num \u001b[39m=\u001b[39m \u001b[39mint\u001b[39;49m(\u001b[39minput\u001b[39;49m())\n\u001b[1;32m      6\u001b[0m     \u001b[39mif\u001b[39;00m num \u001b[39m>\u001b[39m max_num:\n\u001b[1;32m      7\u001b[0m         max_num \u001b[39m=\u001b[39m num\n",
      "\u001b[0;31mValueError\u001b[0m: invalid literal for int() with base 10: ''"
     ]
    }
   ],
   "source": [
    "max_num = 0\n",
    "max_idx = 0\n",
    "\n",
    "for i in range(1, 82):\n",
    "    num = int(input())\n",
    "    if num > max_num:\n",
    "        max_num = num\n",
    "        max_idx = i\n",
    "\n",
    "print(max_num)\n",
    "print(max_idx)\n"
   ]
  },
  {
   "cell_type": "code",
   "execution_count": 21,
   "metadata": {},
   "outputs": [
    {
     "data": {
      "text/plain": [
       "[[3, 23, 85, 34, 17, 74, 25, 52, 65],\n",
       " [],\n",
       " [10, 7, 39, 42, 88, 52, 14, 72, 63],\n",
       " [87, 42, 18, 78, 53, 45, 18, 84, 53],\n",
       " [34, 28, 64, 85, 12, 16, 75, 36, 55],\n",
       " [21, 77, 45, 35, 28, 75, 90, 76, 1],\n",
       " [25, 87, 65, 15, 28, 11, 37, 28, 74],\n",
       " [65, 27, 75, 41, 7, 89, 78, 64, 39],\n",
       " [47, 47, 70, 45, 23, 65, 3, 41, 44]]"
      ]
     },
     "execution_count": 21,
     "metadata": {},
     "output_type": "execute_result"
    }
   ],
   "source": [
    "m =[[int(i)  for i in input().split()] for i in range(9)]\n",
    "\n",
    "ans = m[0][0]\n",
    "\n",
    "x=0\n",
    "y=0\n",
    "\n",
    "for i in range(10):\n",
    "    for j in range(10):\n",
    "        if ans < m[i][j]:\n",
    "            ans = m[i][j]\n",
    "            x = j\n",
    "            y = i\n",
    "print(ans)\n",
    "print(y, x)\n",
    "           "
   ]
  },
  {
   "cell_type": "code",
   "execution_count": 22,
   "metadata": {},
   "outputs": [
    {
     "name": "stdout",
     "output_type": "stream",
     "text": [
      "0번째 값은 1\n",
      "1번째 값은 2\n",
      "2번째 값은 3\n",
      "3번째 값은 4\n",
      "4번째 값은 5\n"
     ]
    }
   ],
   "source": [
    "l = [1,2,3,4,5]\n",
    "\n",
    "for idx, value in enumerate(l):\n",
    "    print(f\"{idx}번째 값은 {value}\")"
   ]
  },
  {
   "cell_type": "code",
   "execution_count": null,
   "metadata": {},
   "outputs": [],
   "source": []
  },
  {
   "cell_type": "code",
   "execution_count": 29,
   "metadata": {},
   "outputs": [
    {
     "name": "stdout",
     "output_type": "stream",
     "text": [
      "njfjisdjkfjhnsjkfbnjkfvndsjknfgkfnslkdjfnkjsdahfjklrsehjklfhszffbjksdafbjlsdabfjkdsfbdsjkfkjsadbfjhdsdbfjksdabfjksdabnfkj"
     ]
    },
    {
     "ename": "IndexError",
     "evalue": "list index out of range",
     "output_type": "error",
     "traceback": [
      "\u001b[0;31m---------------------------------------------------------------------------\u001b[0m",
      "\u001b[0;31mIndexError\u001b[0m                                Traceback (most recent call last)",
      "Cell \u001b[0;32mIn[29], line 6\u001b[0m\n\u001b[1;32m      4\u001b[0m \u001b[39mfor\u001b[39;00m x \u001b[39min\u001b[39;00m \u001b[39mrange\u001b[39m(\u001b[39m15\u001b[39m):\n\u001b[1;32m      5\u001b[0m     \u001b[39mfor\u001b[39;00m y \u001b[39min\u001b[39;00m \u001b[39mrange\u001b[39m(\u001b[39m5\u001b[39m):\n\u001b[0;32m----> 6\u001b[0m         \u001b[39mprint\u001b[39m(l[y][x], end\u001b[39m=\u001b[39m\u001b[39m\"\u001b[39m\u001b[39m\"\u001b[39m)\n",
      "\u001b[0;31mIndexError\u001b[0m: list index out of range"
     ]
    }
   ],
   "source": [
    "l = [input().split() for i in range(5)]\n",
    "\n",
    "\n",
    "for x in range(15):\n",
    "    for y in range(5):\n",
    "        print(l[y][x], end=\"\")"
   ]
  },
  {
   "cell_type": "code",
   "execution_count": 37,
   "metadata": {},
   "outputs": [
    {
     "name": "stdout",
     "output_type": "stream",
     "text": [
      "AAAAAAAAAABBBBBCCCCCDDDDDDDDDD     aaaaafffffzzzzzzzzzz     000009999911111"
     ]
    }
   ],
   "source": [
    "l = [input() for i in range(5)]\n",
    "\n",
    "for x in range(15):\n",
    "    for y in range(5):\n",
    "\n",
    "\n",
    "        if x < len(l[y]):\n",
    "            print(l[y][x], end=\"\")"
   ]
  },
  {
   "cell_type": "code",
   "execution_count": null,
   "metadata": {},
   "outputs": [],
   "source": [
    "l = [input().split() for i in range(5)]\n",
    "\n",
    "for x in range(15):\n",
    "    for y in range(5):\n",
    "        try:\n",
    "            print(l[y][x], end=\"\")\n",
    "        except:\n",
    "            pass\n",
    "        "
   ]
  },
  {
   "cell_type": "code",
   "execution_count": 41,
   "metadata": {},
   "outputs": [
    {
     "name": "stdout",
     "output_type": "stream",
     "text": [
      "['3', '3 7', '15 7', '5 2']\n",
      "3315 5 7 27"
     ]
    }
   ],
   "source": [
    "# https://www.acmicpc.net/problem/10798\n",
    "\n",
    "#입력\n",
    "\n",
    "l = [input() for i in range(4)]\n",
    "\n",
    "print(l)\n",
    "for x in range(15):\n",
    "    for y in range(5):\n",
    "        try:\n",
    "            print(l[y][x], end=\"\")\n",
    "        except:\n",
    "            pass\n"
   ]
  },
  {
   "cell_type": "code",
   "execution_count": 4,
   "metadata": {},
   "outputs": [
    {
     "ename": "TypeError",
     "evalue": "'int' object is not subscriptable",
     "output_type": "error",
     "traceback": [
      "\u001b[0;31m---------------------------------------------------------------------------\u001b[0m",
      "\u001b[0;31mTypeError\u001b[0m                                 Traceback (most recent call last)",
      "Cell \u001b[0;32mIn[4], line 17\u001b[0m\n\u001b[1;32m     15\u001b[0m \u001b[39mfor\u001b[39;00m i \u001b[39min\u001b[39;00m \u001b[39mrange\u001b[39m (\u001b[39m1\u001b[39m,\u001b[39m101\u001b[39m):\n\u001b[1;32m     16\u001b[0m     \u001b[39mfor\u001b[39;00m j \u001b[39min\u001b[39;00m \u001b[39mrange\u001b[39m(\u001b[39m1\u001b[39m,\u001b[39m101\u001b[39m):\n\u001b[0;32m---> 17\u001b[0m         \u001b[39mif\u001b[39;00m n[x][y] \u001b[39m==\u001b[39m \u001b[39m1\u001b[39m:\n\u001b[1;32m     18\u001b[0m             ans \u001b[39m+\u001b[39m\u001b[39m=\u001b[39m \u001b[39m1\u001b[39m\n\u001b[1;32m     19\u001b[0m \u001b[39mprint\u001b[39m(ans)\n",
      "\u001b[0;31mTypeError\u001b[0m: 'int' object is not subscriptable"
     ]
    }
   ],
   "source": [
    "# https://www.acmicpc.net/problem/2563/\n",
    "# 판때기 100X100짜리 0으로 채워진 2차원 리스트\n",
    "판때기 = [[0 for i in range(101)] for _ in range(101)]\n",
    "n = int(input())\n",
    "\n",
    "for _ in range(n):\n",
    "    x, y = map(int, input().split())\n",
    "    #입력끝..\n",
    "    #풀이\n",
    "    #10x10영역을 1로 채운다.\n",
    "    #시작좌표. y, x\n",
    "    for i in range(10):\n",
    "        판때기[y+i][x:x+10] = [1] * 10\n",
    "    ans = 0\n",
    "    for i in range (1,101):\n",
    "        for j in range(1,101):\n",
    "            if 판때기[x][y] == 1:\n",
    "                ans += 1\n",
    "    print(ans)\n"
   ]
  },
  {
   "cell_type": "code",
   "execution_count": null,
   "metadata": {},
   "outputs": [],
   "source": [
    "# https://www.acmicpc.net/problem/2563/\n",
    "# 판때기 100X100짜리 0으로 채워진 2차원 리스트\n",
    "판때기 = [[0 for i in range(101)] for _ in range(101)]\n",
    "n = int(input())\n",
    "\n",
    "for _ in range(n):\n",
    "    x, y = map(int, input().split())\n",
    "    # 입력끝..\n",
    "    # 풀이\n",
    "    # 10x10영역을 1로 채운다.\n",
    "    # 시작좌표. y, x\n",
    "    for i in range(10):\n",
    "        판때기[y+i][x:x+10] = [1] * 10\n",
    "\n",
    "ans = 0  # 1이 몇번 나왔는지 저장할 변수\n",
    "\n",
    "for x in range(1, 101):\n",
    "    for y in range(1, 101):\n",
    "        if 판때기[y][x] == 1:\n",
    "            ans += 1\n",
    "print(ans)"
   ]
  },
  {
   "cell_type": "code",
   "execution_count": null,
   "metadata": {},
   "outputs": [],
   "source": [
    "# https://www.acmicpc.net/problem/2563/\n",
    "\n",
    "판때기 = [[0 for i in range(101)] for _ in range(101)]\n",
    "n = int(input())\n",
    "\n",
    "for _ in range(n):\n",
    "    x, y = map(int, input().split())\n",
    "    for i in range(10):\n",
    "        판때기[y+i][x:x+10] = [1] * 10\n",
    "\n",
    "ans = 0  # 1이 몇번 나왔는지 저장할 변수\n",
    "\n",
    "for x in 판때기:\n",
    "    ans += sum(x)\n",
    "print(ans)"
   ]
  },
  {
   "cell_type": "code",
   "execution_count": 13,
   "metadata": {},
   "outputs": [
    {
     "name": "stdout",
     "output_type": "stream",
     "text": [
      "1 12\n",
      "2 6\n",
      "3 4\n",
      "4 3\n",
      "6 2\n"
     ]
    }
   ],
   "source": [
    "n = 12\n",
    "\n",
    "for i in range(1, n+1//2):\n",
    "    if n % i == 0:\n",
    "        print(i, n//i)"
   ]
  },
  {
   "cell_type": "code",
   "execution_count": 16,
   "metadata": {},
   "outputs": [
    {
     "name": "stdout",
     "output_type": "stream",
     "text": [
      "factor\n",
      "mulitple\n",
      "neither\n"
     ]
    }
   ],
   "source": [
    "while True:\n",
    "    \n",
    "    a,b = map(int,input().split())\n",
    "\n",
    "    if a==b==0:\n",
    "        break\n",
    "\n",
    "    if b % a==0:\n",
    "        print(\"factor\")\n",
    "    elif a % b==0:\n",
    "        print(\"multiple\")\n",
    "    else:\n",
    "        print(\"neither\")\n",
    "\n"
   ]
  },
  {
   "cell_type": "code",
   "execution_count": null,
   "metadata": {},
   "outputs": [],
   "source": [
    "n = 25\n",
    "\n",
    "# n의 약수를 출력하는 프로그램 작성\n",
    "s = set()\n",
    "for i in range(1, int((n+1)**0.5)+1):\n",
    "    if n % i == 0:\n",
    "        s.add(i)\n",
    "        s.add(n//i)\n",
    "print(*s)\n"
   ]
  },
  {
   "cell_type": "code",
   "execution_count": 19,
   "metadata": {},
   "outputs": [
    {
     "name": "stdout",
     "output_type": "stream",
     "text": [
      "1\n"
     ]
    }
   ],
   "source": [
    "a,b =map(int,input().split())\n",
    "\n",
    "ans = 0\n",
    "for i in range(1, a+1):\n",
    "    if a % i ==0:\n",
    "        ans += 1\n",
    "        if ans == b:\n",
    "            print(i)\n",
    "            break\n",
    "if ans < b:\n",
    "    print(0)\n"
   ]
  },
  {
   "cell_type": "code",
   "execution_count": 26,
   "metadata": {},
   "outputs": [
    {
     "name": "stdout",
     "output_type": "stream",
     "text": [
      "6=1+2+3\n",
      "12is NOT perfect.\n",
      "28=1+2+4+7+14\n"
     ]
    }
   ],
   "source": [
    "while True:\n",
    "    n =int(input())\n",
    "    if n == -1:\n",
    "        break\n",
    "    a = [1]\n",
    "    for i in range(2,int(n**0.5)+1):\n",
    "        if n % i ==0:\n",
    "            a.append(i)\n",
    "            if i != n//i:\n",
    "                a.append(n//i)\n",
    "    a.sort()\n",
    "\n",
    "if sum(a) == n:\n",
    "    print(f\"{n}={'+'.join(map(str,a))}\")\n",
    "else:\n",
    "    print(f\"{n}is NOT perfect.\")"
   ]
  },
  {
   "cell_type": "code",
   "execution_count": 24,
   "metadata": {},
   "outputs": [
    {
     "name": "stdout",
     "output_type": "stream",
     "text": [
      "6 = 1 + 2 + 3\n",
      "12 is NOT perfect.\n",
      "28 = 1 + 2 + 4 + 7 + 14\n"
     ]
    }
   ],
   "source": [
    "while True:\n",
    "    n = int(input())\n",
    "    if n == -1:\n",
    "        break\n",
    "    a = [1]\n",
    "\n",
    "    for i in range(2, int(n**0.5)+1):\n",
    "        if n % i == 0:\n",
    "            a.append(i)\n",
    "            if i != n//i:\n",
    "                a.append(n//i)\n",
    "    a.sort()\n",
    "\n",
    "    if sum(a) == n:\n",
    "        print(f\"{n} = {' + '.join(map(str, a))}\")\n",
    "    else:\n",
    "        print(f\"{n} is NOT perfect.\")"
   ]
  },
  {
   "cell_type": "code",
   "execution_count": 27,
   "metadata": {},
   "outputs": [
    {
     "name": "stdout",
     "output_type": "stream",
     "text": [
      "45000\n",
      "30\n",
      "221\n"
     ]
    }
   ],
   "source": [
    "def gcd(a, b):\n",
    "    while b != 0:\n",
    "        r = a % b\n",
    "        a = b\n",
    "        b = r\n",
    "    return a\n",
    "def n(a, b):\n",
    "    return a * b // gcd(a, b)\n",
    "t = int(input())\n",
    "for _ in range(t):\n",
    "    a, b = map(int, input().split())\n",
    "    print(n(a, b))"
   ]
  },
  {
   "cell_type": "code",
   "execution_count": null,
   "metadata": {},
   "outputs": [],
   "source": [
    "t = int(input())\n",
    "for _ in range(t):\n",
    "    n, m = map(int, input().split())"
   ]
  },
  {
   "cell_type": "code",
   "execution_count": null,
   "metadata": {},
   "outputs": [],
   "source": [
    "n, m = 12, 16\n",
    "while True:\n",
    "    n, m= m, n % m\n",
    "    if m == 0:\n",
    "        break\n",
    "print(n)"
   ]
  },
  {
   "cell_type": "code",
   "execution_count": null,
   "metadata": {},
   "outputs": [],
   "source": [
    "t = int(input())\n",
    "for _ in range(t):\n",
    "    n, m = map(int, input().split())\n",
    "    on, om = n, m\n",
    "    while True:\n",
    "        n, m = m, n%m\n",
    "        if m==0:\n",
    "            break\n",
    "    print(on*om//n)"
   ]
  },
  {
   "cell_type": "code",
   "execution_count": null,
   "metadata": {},
   "outputs": [],
   "source": [
    "import math \n",
    "t = int(input())\n",
    "for _ in range(t):\n",
    "    n, m = map(int, input().split())\n",
    "    print(math.lcm(n,m))"
   ]
  }
 ],
 "metadata": {
  "kernelspec": {
   "display_name": "Python 3",
   "language": "python",
   "name": "python3"
  },
  "language_info": {
   "codemirror_mode": {
    "name": "ipython",
    "version": 3
   },
   "file_extension": ".py",
   "mimetype": "text/x-python",
   "name": "python",
   "nbconvert_exporter": "python",
   "pygments_lexer": "ipython3",
   "version": "3.10.4"
  },
  "orig_nbformat": 4
 },
 "nbformat": 4,
 "nbformat_minor": 2
}
